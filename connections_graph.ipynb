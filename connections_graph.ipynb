{
  "cells": [
    {
      "cell_type": "code",
      "execution_count": 70,
      "metadata": {
        "id": "07VM-vSvsPC3"
      },
      "outputs": [],
      "source": [
        "import pandas as pd\n",
        "\n",
        "data_df = pd.read_csv(\"https://function-app-test3.azurewebsites.net/api/get?action=raids\")\n",
        "users_df = pd.read_csv(\"https://function-app-test3.azurewebsites.net/api/get?action=users\")"
      ]
    },
    {
      "cell_type": "code",
      "execution_count": 100,
      "metadata": {
        "id": "4GOqLsNHsov5"
      },
      "outputs": [],
      "source": [
        "from datetime import timedelta\n",
        "data = data_df.copy()\n",
        "users = users_df.copy()\n",
        "\n",
        "data[\"message_timestamp\"] = pd.to_datetime(data[\"message_timestamp\"], utc=True)\n",
        "data = data.sort_values(\"message_timestamp\")\n",
        "data = data[abs(data['message_timestamp'].shift(1) - data['message_timestamp']) > timedelta(seconds=1)].reset_index(drop=True)\n",
        "\n",
        "users = users.set_index(\"id\")"
      ]
    },
    {
      "cell_type": "code",
      "execution_count": 148,
      "metadata": {
        "colab": {
          "base_uri": "https://localhost:8080/",
          "height": 36
        },
        "id": "pedVTPKOtUQ9",
        "outputId": "a28d8840-e235-4db2-aa44-2d8372ab11ac"
      },
      "outputs": [
        {
          "data": {
            "application/vnd.google.colaboratory.intrinsic+json": {
              "type": "string"
            },
            "text/plain": [
              "'/content/graph-markdown.zip'"
            ]
          },
          "execution_count": 148,
          "metadata": {},
          "output_type": "execute_result"
        }
      ],
      "source": [
        "import os\n",
        "\n",
        "graph = {}\n",
        "\n",
        "def add_edge(from_, to):\n",
        "  try:\n",
        "    graph[from_][to] += 1\n",
        "  except KeyError:\n",
        "    try:\n",
        "      graph[from_][to] = 1\n",
        "    except KeyError:\n",
        "      graph[from_] = {to: 1}\n",
        "\n",
        "\n",
        "for i, row in data.iterrows():\n",
        "  try:\n",
        "    from_name = users.loc[row[\"from\"], \"name\"]\n",
        "  except KeyError:\n",
        "    from_name = row[\"from\"]\n",
        "\n",
        "  try:\n",
        "    to_name = users.loc[row[\"to\"], \"name\"]\n",
        "  except KeyError:\n",
        "    to_name = row[\"to\"]\n",
        "\n",
        "  add_edge(from_name, to_name)\n",
        "\n",
        "\n",
        "directory = \"markdown\"\n",
        "\n",
        "if not os.path.exists(directory):\n",
        "    os.makedirs(directory)\n",
        "\n",
        "for user, to in graph.items():\n",
        "  with open(os.path.join(directory, f\"{user}.md\"), \"w\") as f:\n",
        "    txt = \"\"\n",
        "    for to_user, weight in to.items():\n",
        "      if (weight > 1):\n",
        "        txt += f\"[[{to_user}]] ({weight})\\n\"\n",
        "    f.write(txt)\n",
        "\n",
        "\n",
        "import shutil\n",
        "shutil.make_archive('graph-markdown', 'zip', 'markdown')"
      ]
    }
  ],
  "metadata": {
    "colab": {
      "provenance": []
    },
    "kernelspec": {
      "display_name": "Python 3",
      "name": "python3"
    },
    "language_info": {
      "name": "python"
    }
  },
  "nbformat": 4,
  "nbformat_minor": 0
}
